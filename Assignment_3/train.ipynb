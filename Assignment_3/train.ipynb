{
 "cells": [
  {
   "cell_type": "code",
   "execution_count": 1,
   "metadata": {},
   "outputs": [],
   "source": [
    "from sklearn.feature_extraction.text import TfidfVectorizer\n",
    "from sklearn.model_selection import GridSearchCV\n",
    "from sklearn.linear_model import LogisticRegression\n",
    "from sklearn.ensemble import RandomForestClassifier\n",
    "from sklearn.naive_bayes import MultinomialNB\n",
    "from sklearn.metrics import average_precision_score\n",
    "\n",
    "import joblib\n",
    "import pandas as pd\n",
    "import seaborn as sns\n",
    "import matplotlib.pyplot as plt"
   ]
  },
  {
   "cell_type": "code",
   "execution_count": 2,
   "metadata": {},
   "outputs": [],
   "source": [
    "train_data = pd.read_csv('train.csv')\n",
    "test_data = pd.read_csv('test.csv')\n",
    "val_data = pd.read_csv('validation.csv')\n",
    "\n",
    "train_data = train_data.dropna()\n",
    "test_data = test_data.dropna()\n",
    "val_data = val_data.dropna()\n",
    "\n",
    "# Vectorize text using TF-IDF\n",
    "vectorizer = TfidfVectorizer(max_features=5000)\n",
    "X_train = vectorizer.fit_transform(train_data['message'])\n",
    "X_val = vectorizer.transform(val_data['message'])\n",
    "X_test = vectorizer.transform(test_data['message'])\n",
    "\n",
    "y_train, y_val, y_test = train_data['label'], val_data['label'], test_data['label']\n"
   ]
  },
  {
   "cell_type": "code",
   "execution_count": 3,
   "metadata": {},
   "outputs": [],
   "source": [
    "def tune_hyperparameters(model, param_grid, X_train, y_train, X_val, y_val, test=\"Validation\"):\n",
    "    grid_search = GridSearchCV(model, param_grid, scoring='f1', cv=3, n_jobs=-1)\n",
    "    grid_search.fit(X_train, y_train)\n",
    "    \n",
    "    best_model = grid_search.best_estimator_\n",
    "    \n",
    "    # Evaluate best model\n",
    "    train_preds = best_model.predict(X_train)\n",
    "    val_preds = best_model.predict(X_val)\n",
    "    \n",
    "    train_metrics = round(average_precision_score(y_train, train_preds), 3)\n",
    "    val_metrics = round(average_precision_score(y_val, val_preds), 3)\n",
    "    print(f'Best Parameters: {grid_search.best_params_}')\n",
    "    print(f'Train Metrics: {train_metrics}')\n",
    "    print(f'{test} Metrics: {val_metrics}')\n",
    "\n",
    "    plt.figure(figsize=(6, 4))\n",
    "    sns.barplot(x=['Train', test], y=[train_metrics, val_metrics], palette=\"Blues_r\")\n",
    "\n",
    "    plt.ylim(0, 1)\n",
    "    plt.ylabel(\"AUCPR Score\")\n",
    "    plt.title(f\"Train vs {test} AUCPR\")\n",
    "    plt.show()\n",
    "    plt.show()\n",
    "\n",
    "    return best_model\n"
   ]
  },
  {
   "cell_type": "code",
   "execution_count": 4,
   "metadata": {},
   "outputs": [],
   "source": [
    "def validate_model(model, X_train, y_train, X_val, y_val, test=\"Validation\"):\n",
    "    model.fit(X_train, y_train)\n",
    "    \n",
    "    train_preds = model.predict(X_train)\n",
    "    val_preds = model.predict(X_val)\n",
    "\n",
    "    train_metrics = round(average_precision_score(y_train, train_preds), 3)\n",
    "    val_metrics = round(average_precision_score(y_val, val_preds), 3)\n",
    "    print(f'Train Metrics: {train_metrics}')\n",
    "    print(f'{test} Metrics: {val_metrics}')\n",
    "\n",
    "    plt.figure(figsize=(6, 4))\n",
    "    sns.barplot(x=['Train', test], y=[train_metrics, val_metrics], palette=\"Blues_r\")\n",
    "\n",
    "    plt.ylim(0, 1)\n",
    "    plt.ylabel(\"AUCPR Score\")\n",
    "    plt.title(f\"Train vs {test} AUCPR\")\n",
    "    plt.show()\n",
    "\n",
    "\n",
    "    return {\"Train\": train_metrics, test: val_metrics}"
   ]
  },
  {
   "cell_type": "code",
   "execution_count": 5,
   "metadata": {},
   "outputs": [
    {
     "name": "stdout",
     "output_type": "stream",
     "text": [
      "Best Parameters: {'bootstrap': False, 'max_depth': None, 'min_samples_leaf': 1, 'min_samples_split': 5, 'n_estimators': 50}\n",
      "Train Metrics: 0.996\n",
      "Validation Metrics: 0.821\n"
     ]
    },
    {
     "name": "stderr",
     "output_type": "stream",
     "text": [
      "C:\\Users\\X Warrior\\AppData\\Local\\Temp\\ipykernel_6432\\3736296483.py:18: FutureWarning: \n",
      "\n",
      "Passing `palette` without assigning `hue` is deprecated and will be removed in v0.14.0. Assign the `x` variable to `hue` and set `legend=False` for the same effect.\n",
      "\n",
      "  sns.barplot(x=['Train', test], y=[train_metrics, val_metrics], palette=\"Blues_r\")\n"
     ]
    },
    {
     "data": {
      "image/png": "[encoded data removed]",
      "text/plain": [
       "<Figure size 600x400 with 1 Axes>"
      ]
     },
     "metadata": {},
     "output_type": "display_data"
    }
   ],
   "source": [
    "hyperparameters =  {\n",
    "    'n_estimators': [50, 100, 200], \n",
    "    'max_depth': [None, 10, 20, 30],\n",
    "    'min_samples_split': [2, 5, 10],\n",
    "    'min_samples_leaf': [1, 2, 4],  \n",
    "    'bootstrap': [True, False]  \n",
    "    }\n",
    "\n",
    "model = RandomForestClassifier()\n",
    "\n",
    "best_model = tune_hyperparameters(model, hyperparameters, X_train, y_train, X_val, y_val)\n",
    "        \n",
    "\n"
   ]
  },
  {
   "cell_type": "code",
   "execution_count": 7,
   "metadata": {},
   "outputs": [
    {
     "data": {
      "text/plain": [
       "['vectorizer.joblib']"
      ]
     },
     "execution_count": 7,
     "metadata": {},
     "output_type": "execute_result"
    }
   ],
   "source": [
    "joblib.dump(best_model, \"best_model.pkl\")\n",
    "joblib.dump(vectorizer, 'vectorizer.joblib')"
   ]
  }
 ],
 "metadata": {
  "kernelspec": {
   "display_name": ".venv",
   "language": "python",
   "name": "python3"
  },
  "language_info": {
   "codemirror_mode": {
    "name": "ipython",
    "version": 3
   },
   "file_extension": ".py",
   "mimetype": "text/x-python",
   "name": "python",
   "nbconvert_exporter": "python",
   "pygments_lexer": "ipython3",
   "version": "3.11.8"
  }
 },
 "nbformat": 4,
 "nbformat_minor": 2
}
